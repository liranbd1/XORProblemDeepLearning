{
  "nbformat": 4,
  "nbformat_minor": 0,
  "metadata": {
    "colab": {
      "name": "XOR_DL.ipynb",
      "provenance": [],
      "collapsed_sections": [],
      "authorship_tag": "ABX9TyPi35GW4xp84wuyu6pzpOlV",
      "include_colab_link": true
    },
    "kernelspec": {
      "name": "python3",
      "display_name": "Python 3"
    }
  },
  "cells": [
    {
      "cell_type": "markdown",
      "metadata": {
        "id": "view-in-github",
        "colab_type": "text"
      },
      "source": [
        "<a href=\"https://colab.research.google.com/github/liranbd1/XORProblemDeepLearning/blob/main/XOR_DL.ipynb\" target=\"_parent\"><img src=\"https://colab.research.google.com/assets/colab-badge.svg\" alt=\"Open In Colab\"/></a>"
      ]
    },
    {
      "cell_type": "markdown",
      "metadata": {
        "id": "AkqtJ3KXEb9z"
      },
      "source": [
        "Dataset for XOR data"
      ]
    },
    {
      "cell_type": "code",
      "metadata": {
        "colab": {
          "base_uri": "https://localhost:8080/"
        },
        "id": "_2ZS1qDmDlv7",
        "outputId": "bcc28a2b-2475-4545-d8a5-715cce981672"
      },
      "source": [
        "import torch\r\n",
        "\r\n",
        "X = torch.Tensor([[0,0],[0,1],[1,0],[1,1]])\r\n",
        "Y = torch.Tensor([0,1,1,0]).view(-1,1)\r\n",
        "print('X:', X)\r\n",
        "print('Y:', Y)"
      ],
      "execution_count": null,
      "outputs": [
        {
          "output_type": "stream",
          "text": [
            "X: tensor([[0., 0.],\n",
            "        [0., 1.],\n",
            "        [1., 0.],\n",
            "        [1., 1.]])\n",
            "Y: tensor([[0.],\n",
            "        [1.],\n",
            "        [1.],\n",
            "        [0.]])\n"
          ],
          "name": "stdout"
        }
      ]
    },
    {
      "cell_type": "markdown",
      "metadata": {
        "id": "m88lv4OFLuzg"
      },
      "source": [
        "XOR Class"
      ]
    },
    {
      "cell_type": "code",
      "metadata": {
        "id": "RuQWMal_Lo35"
      },
      "source": [
        "import torch.nn as nn\r\n",
        "import torch\r\n",
        "\r\n",
        "class XOR(nn.Module):\r\n",
        "    def __init__(self, input_dim = 2, output_dim=1):\r\n",
        "        super(XOR, self).__init__()\r\n",
        "        self.lin1 = nn.Linear(input_dim, 2)\r\n",
        "        self.lin2 = nn.Linear(2, output_dim)\r\n",
        "    \r\n",
        "    def forward(self, x):\r\n",
        "        x = self.lin1(x)\r\n",
        "        x = torch.sigmoid(x)\r\n",
        "        x = self.lin2(x)\r\n",
        "        return x\r\n",
        "    \r\n",
        "model = XOR()"
      ],
      "execution_count": null,
      "outputs": []
    },
    {
      "cell_type": "markdown",
      "metadata": {
        "id": "QPdxmzYkEind"
      },
      "source": [
        "Optimizer"
      ]
    },
    {
      "cell_type": "code",
      "metadata": {
        "id": "2hQnn5b-EAEb"
      },
      "source": [
        "import torch.optim as optim\r\n",
        "\r\n",
        "loss_func = nn.MSELoss()\r\n",
        "optimizer = optim.SGD(model.parameters(), lr=0.02, momentum = 0.9)"
      ],
      "execution_count": null,
      "outputs": []
    },
    {
      "cell_type": "markdown",
      "metadata": {
        "id": "P0rErpIrEmm5"
      },
      "source": [
        "Training"
      ]
    },
    {
      "cell_type": "code",
      "metadata": {
        "colab": {
          "base_uri": "https://localhost:8080/"
        },
        "id": "y_HtUhGeES6p",
        "outputId": "f4d6e6c0-8db4-4b16-eacd-8f32111204ee"
      },
      "source": [
        "import numpy as np\r\n",
        "epochs = 1000\r\n",
        "steps = X.size(0)\r\n",
        "\r\n",
        "for i in range(epochs):\r\n",
        "  for j in range(steps):\r\n",
        "    data_point = np.random.randint(X.size(0))\r\n",
        "    x_var = torch.Tensor(X[data_point])\r\n",
        "    y_var = torch.Tensor(Y[data_point])\r\n",
        "    optimizer.zero_grad()\r\n",
        "    y_hat = model(x_var)\r\n",
        "    loss = loss_func(y_hat, y_var)\r\n",
        "    loss.backward()\r\n",
        "    optimizer.step()\r\n",
        "  if(i%100 == 0):\r\n",
        "    print (\"Epoch: {}, Loss: {}\".format(i, loss.detach()))"
      ],
      "execution_count": null,
      "outputs": [
        {
          "output_type": "stream",
          "text": [
            "Epoch: 0, Loss: 0.6184948086738586\n",
            "Epoch: 100, Loss: 0.6184948086738586\n",
            "Epoch: 200, Loss: 0.6184948086738586\n",
            "Epoch: 300, Loss: 0.6184948086738586\n",
            "Epoch: 400, Loss: 0.6929514408111572\n",
            "Epoch: 500, Loss: 0.036198750138282776\n",
            "Epoch: 600, Loss: 0.6929514408111572\n",
            "Epoch: 700, Loss: 0.6184948086738586\n",
            "Epoch: 800, Loss: 0.036198750138282776\n",
            "Epoch: 900, Loss: 0.6929514408111572\n"
          ],
          "name": "stdout"
        }
      ]
    },
    {
      "cell_type": "markdown",
      "metadata": {
        "id": "kMcv15JMGWwu"
      },
      "source": [
        "Results"
      ]
    },
    {
      "cell_type": "code",
      "metadata": {
        "colab": {
          "base_uri": "https://localhost:8080/"
        },
        "id": "aTaIwfG6GWGv",
        "outputId": "667bb65d-c016-45e0-a056-e38a33366469"
      },
      "source": [
        "model_params = list(model.parameters())\r\n",
        "\r\n",
        "model_weights = model_params[0].data.numpy()\r\n",
        "model_bias = model_params[1].data.numpy()\r\n",
        "\r\n",
        "print('Weights :', model_weights)\r\n",
        "print('Bias :', model_bias)"
      ],
      "execution_count": null,
      "outputs": [
        {
          "output_type": "stream",
          "text": [
            "Weights : [[-0.4049147   0.35618266]\n",
            " [-0.14571126  0.22006513]]\n",
            "Bias : [-0.1905395  0.6270072]\n"
          ],
          "name": "stdout"
        }
      ]
    }
  ]
}